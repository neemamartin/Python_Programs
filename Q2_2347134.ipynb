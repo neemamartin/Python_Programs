{
 "cells": [
  {
   "cell_type": "code",
   "execution_count": 29,
   "metadata": {},
   "outputs": [
    {
     "name": "stdout",
     "output_type": "stream",
     "text": [
      "The numbers divisible by 3 are: [3, 6, 9]\n",
      "The squares of the even numbers are: [4, 16, 36, 64, 100]\n",
      "The sum of the even numbers: 60\n",
      "[57, 57, 57, 57, 57, 57, 57, 57, 57, 57, 57]\n"
     ]
    }
   ],
   "source": [
    "\n",
    "unit_inventory=[1,2,3,4,5,6,7,8,9,10,7]\n",
    "divisible_by_3 = [num for num in unit_inventory if num % 3 == 0]\n",
    "square_even = [even **2 for even in unit_inventory if even % 2 == 0]\n",
    "unique_nums = []\n",
    "sum_of_digits=0\n",
    "for n in unit_inventory:\n",
    "  if n % 2 == 0:\n",
    "    sum_of_digits += sum(int(digit) for digit in str(num))\n",
    "\n",
    "for m in unit_inventory:\n",
    "  if m not in unique_nums:\n",
    "    unique_nums.append(num)\n",
    "\n",
    "\n",
    "if divisible_by_3:\n",
    "    print(\"The numbers divisible by 3 are:\", divisible_by_3)\n",
    "else:\n",
    "    print(\"There are no numbers divisible by 3 in the list.\",divisible_by_3)\n",
    "\n",
    "if square_even:\n",
    "    print(\"The squares of the even numbers are:\", square_even)\n",
    "else:\n",
    "    print(\"There are no even numbers in the list.\",square_even)\n",
    "\n",
    "print(\"The sum of the even numbers:\",sum_of_digits)\n",
    "\n",
    "print(unique_nums)"
   ]
  },
  {
   "cell_type": "code",
   "execution_count": 5,
   "metadata": {},
   "outputs": [
    {
     "name": "stdout",
     "output_type": "stream",
     "text": [
      "The date of purchase is 30 April 2022\n",
      "The date of purchase is 25 October 2020\n"
     ]
    }
   ],
   "source": [
    "inventory ={\n",
    "  \"Iphone XR\":\"30 April 2022\",\n",
    "  \"Samsung AsR\":\"25 October 2020\",\n",
    "  \"MI 29900\":\"10 September 2022\"\n",
    "\n",
    "\n",
    "}\n",
    "def dateofpurchase(c):\n",
    "   print(\"The date of purchase is\",inventory[c])\n",
    "\n",
    "dateofpurchase('Iphone XR')\n",
    "dateofpurchase('Samsung AsR')\n",
    "  \n",
    "  "
   ]
  }
 ],
 "metadata": {
  "kernelspec": {
   "display_name": "Python 3",
   "language": "python",
   "name": "python3"
  },
  "language_info": {
   "codemirror_mode": {
    "name": "ipython",
    "version": 3
   },
   "file_extension": ".py",
   "mimetype": "text/x-python",
   "name": "python",
   "nbconvert_exporter": "python",
   "pygments_lexer": "ipython3",
   "version": "3.11.4"
  },
  "orig_nbformat": 4
 },
 "nbformat": 4,
 "nbformat_minor": 2
}
