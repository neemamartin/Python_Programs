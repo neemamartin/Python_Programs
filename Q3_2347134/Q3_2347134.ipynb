{
 "cells": [
  {
   "cell_type": "code",
   "execution_count": 1,
   "metadata": {},
   "outputs": [
    {
     "name": "stdout",
     "output_type": "stream",
     "text": [
      "The word: Hi\n",
      "Encoded result: 10000000010010000100000001101001\n"
     ]
    }
   ],
   "source": [
    "# main.py\n",
    "import encoder\n",
    "\n",
    "# Provide input\n",
    "name = input(\"Enter the word to generate QR code: \")\n",
    "encoded_result = encoder.EncodeQR(name)\n",
    "print('The word:',name)\n",
    "print(\"Encoded result:\", encoded_result)\n",
    "\n",
    "\n"
   ]
  },
  {
   "cell_type": "code",
   "execution_count": 1,
   "metadata": {},
   "outputs": [
    {
     "name": "stdout",
     "output_type": "stream",
     "text": [
      "Updated price of Widget A to 34.99\n",
      "Updated quantity of Widget A to 80\n",
      "No reorder required for Widget A\n",
      "Updated price of Milk to 3.49\n",
      "Milk is still within its shelf life.\n"
     ]
    }
   ],
   "source": [
    "class InventoryManagementSystem:\n",
    "    def __init__(self, product_name, category, quantity, price, reorder_threshold):\n",
    "        self.product_name = product_name\n",
    "        self.category = category\n",
    "        self.quantity = quantity\n",
    "        self.price = price\n",
    "        self.reorder_threshold = reorder_threshold\n",
    "    \n",
    "    def update_price(self, new_price):\n",
    "        self.price = new_price\n",
    "        print(f\"Updated price of {self.product_name} to {self.price}\")\n",
    "    \n",
    "    def update_quantity(self, new_quantity):\n",
    "        self.quantity = new_quantity\n",
    "        print(f\"Updated quantity of {self.product_name} to {self.quantity}\")\n",
    "    \n",
    "    def check_reorder_status(self):\n",
    "        if self.quantity <= self.reorder_threshold:\n",
    "            print(f\"Reorder required for {self.product_name}\")\n",
    "        else:\n",
    "            print(f\"No reorder required for {self.product_name}\")\n",
    "\n",
    "\n",
    "class PerishableProduct(InventoryManagementSystem):\n",
    "    def __init__(self, product_name, category, quantity, price, reorder_threshold, expiration_date):\n",
    "        super().__init__(product_name, category, quantity, price, reorder_threshold)\n",
    "        self.expiration_date = expiration_date\n",
    "    \n",
    "    def check_expiry_status(self):\n",
    "        if self.expiration_date < \"2023-08-01\":  # Example date for demonstration\n",
    "            print(f\"{self.product_name} has expired!\")\n",
    "        else:\n",
    "            print(f\"{self.product_name} is still within its shelf life.\")\n",
    "\n",
    "# Create objects\n",
    "product1 = InventoryManagementSystem(\"Widget A\", \"Electronics\", 100, 29.99, 20)\n",
    "product2 = PerishableProduct(\"Milk\", \"Dairy\", 50, 2.99, 10, \"2023-08-15\")\n",
    "\n",
    "# Call methods\n",
    "product1.update_price(34.99)\n",
    "product1.update_quantity(80)\n",
    "product1.check_reorder_status()\n",
    "\n",
    "product2.update_price(3.49)\n",
    "product2.check_expiry_status()\n"
   ]
  }
 ],
 "metadata": {
  "kernelspec": {
   "display_name": "Python 3",
   "language": "python",
   "name": "python3"
  },
  "language_info": {
   "codemirror_mode": {
    "name": "ipython",
    "version": 3
   },
   "file_extension": ".py",
   "mimetype": "text/x-python",
   "name": "python",
   "nbconvert_exporter": "python",
   "pygments_lexer": "ipython3",
   "version": "3.11.4"
  },
  "orig_nbformat": 4
 },
 "nbformat": 4,
 "nbformat_minor": 2
}
